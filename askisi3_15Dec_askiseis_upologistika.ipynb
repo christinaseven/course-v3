{
 "cells": [
  {
   "cell_type": "markdown",
   "metadata": {},
   "source": [
    "# Euler and Taylor Method"
   ]
  },
  {
   "cell_type": "markdown",
   "metadata": {},
   "source": [
    "Αρχικά θα βρούμε την αναλυτική λύση της διαφορικής για όλα τα σημεία της διαμέρισης ."
   ]
  },
  {
   "cell_type": "markdown",
   "metadata": {},
   "source": [
    "# Analytical solution"
   ]
  },
  {
   "cell_type": "code",
   "execution_count": 74,
   "metadata": {
    "scrolled": true
   },
   "outputs": [
    {
     "data": {
      "text/plain": [
       "array([0. , 0.2, 0.4, 0.6, 0.8, 1. , 1.2, 1.4, 1.6, 1.8, 2. , 2.2, 2.4,\n",
       "       2.6, 2.8, 3. ])"
      ]
     },
     "execution_count": 74,
     "metadata": {},
     "output_type": "execute_result"
    }
   ],
   "source": [
    "import math;\n",
    "import numpy as np;\n",
    "h=0.2\n",
    "#h=0.1\n",
    "#h=0.01\n",
    "N= int(3/h)\n",
    "y=np.zeros(N+1)\n",
    "x=np.linspace(0, 3, N+1)\n",
    "x"
   ]
  },
  {
   "cell_type": "code",
   "execution_count": 75,
   "metadata": {},
   "outputs": [
    {
     "name": "stdout",
     "output_type": "stream",
     "text": [
      "2.0\n",
      "2.002428263694509\n",
      "2.017877737460604\n",
      "2.055988386413646\n",
      "2.1239680063523716\n",
      "2.227411277760219\n",
      "2.3707876143972113\n",
      "2.55775006070128\n",
      "2.791340485857331\n",
      "3.0741312637855147\n",
      "3.4083262679913418\n",
      "3.7958348172436445\n",
      "4.238327064969614\n",
      "4.7372763126731385\n",
      "5.293991892834216\n",
      "5.909645111040875\n"
     ]
    }
   ],
   "source": [
    "for i in range(0, N+1):\n",
    "    y[i]= x[i]**2 +2*x[i]+2 -2*(x[i]+1)*math.log(x[i]+1)\n",
    "    print (y[i])"
   ]
  },
  {
   "cell_type": "markdown",
   "metadata": {},
   "source": [
    "# Euler Method"
   ]
  },
  {
   "cell_type": "code",
   "execution_count": 76,
   "metadata": {},
   "outputs": [
    {
     "name": "stdout",
     "output_type": "stream",
     "text": [
      "y0 = 2\n",
      "for n= 0 euler solution is: y 1 is: 2.0\n",
      "for n= 1 euler solution is: y 2 is: 2.006666666666667\n",
      "for n= 2 euler solution is: y 3 is: 2.0304761904761905\n",
      "for n= 3 euler solution is: y 4 is: 2.0792857142857146\n",
      "for n= 4 euler solution is: y 5 is: 2.15920634920635\n",
      "for n= 5 euler solution is: y 6 is: 2.2751269841269846\n",
      "for n= 6 euler solution is: y 7 is: 2.43104761904762\n",
      "for n= 7 euler solution is: y 8 is: 2.630301587301588\n",
      "for n= 8 euler solution is: y 9 is: 2.8757094017094027\n",
      "for n= 9 euler solution is: y 10 is: 3.169688644688646\n",
      "for n= 10 euler solution is: y 11 is: 3.514334554334556\n",
      "for n= 11 euler solution is: y 12 is: 3.9114804639804657\n",
      "for n= 12 euler solution is: y 13 is: 4.362744020685199\n",
      "for n= 13 euler solution is: y 14 is: 4.869563132945488\n",
      "for n= 14 euler solution is: y 15 is: 5.433224350468935\n"
     ]
    }
   ],
   "source": [
    "y_euler=np.zeros(N+1)\n",
    "y_euler[0]=2\n",
    "#apo 0 mexri kai N\n",
    "print(\"y0 = 2\")\n",
    "for n in range(0,N):\n",
    "    y_euler[n+1]= y_euler[n]+ h * ((y_euler[n] + x[n]**2 -2)/(x[n]+1))\n",
    "    print(\"for n=\", n , \"euler solution is: y\",n+1, \"is:\" , y_euler[n+1])"
   ]
  },
  {
   "cell_type": "markdown",
   "metadata": {},
   "source": [
    "# Taylor Method\n"
   ]
  },
  {
   "cell_type": "code",
   "execution_count": 77,
   "metadata": {
    "scrolled": false
   },
   "outputs": [
    {
     "name": "stdout",
     "output_type": "stream",
     "text": [
      "y0 = 2\n",
      "for n= 0 taylors solution is: y 1 is: 2.0\n",
      "for n= 1 taylors solution is: y 2 is: 2.027071377282418\n",
      "for n= 2 taylors solution is: y 3 is: 2.0791491493005996\n",
      "for n= 3 taylors solution is: y 4 is: 2.161147697602305\n",
      "for n= 4 taylors solution is: y 5 is: 2.278033031641457\n",
      "for n= 5 taylors solution is: y 6 is: 2.434107492750812\n",
      "for n= 6 taylors solution is: y 7 is: 2.6330102628908185\n",
      "for n= 7 taylors solution is: y 8 is: 2.8778227679492585\n",
      "for n= 8 taylors solution is: y 9 is: 3.1711737454938396\n",
      "for n= 9 taylors solution is: y 10 is: 3.515325978621376\n",
      "for n= 10 taylors solution is: y 11 is: 3.9122446995177684\n",
      "for n= 11 taylors solution is: y 12 is: 4.3636510422621635\n",
      "for n= 12 taylors solution is: y 13 is: 4.871063946536394\n",
      "for n= 13 taylors solution is: y 14 is: 5.435833265494425\n",
      "for n= 14 taylors solution is: y 15 is: 6.059166172134823\n"
     ]
    }
   ],
   "source": [
    "y_taylor=np.zeros(N+1)\n",
    "y_taylor[0]=2\n",
    "#apo 0 mexri kai N\n",
    "print(\"y0 = 2\")\n",
    "for n in range(0,N):\n",
    "    y_taylor[n+1]= y_taylor[n]+ h * ((y[n] + x[n]**2-2)/(x[n]+1)) + math.pow(h,2)*(x[n]/x[n+1])\n",
    "    print(\"for n=\", n , \"taylors solution is: y\",n+1, \"is:\" , y_taylor[n+1])"
   ]
  },
  {
   "cell_type": "markdown",
   "metadata": {},
   "source": [
    "# Plot"
   ]
  },
  {
   "cell_type": "code",
   "execution_count": 78,
   "metadata": {
    "scrolled": true
   },
   "outputs": [
    {
     "data": {
      "image/png": "[encoded data removed]",
      "text/plain": [
       "<Figure size 432x288 with 1 Axes>"
      ]
     },
     "metadata": {
      "needs_background": "light"
     },
     "output_type": "display_data"
    }
   ],
   "source": [
    "# Function to plot   \n",
    "from matplotlib import pyplot as plt\n",
    "plt.plot(y_euler,x, label ='eulers') \n",
    "plt.plot(y,x, label ='analytical') \n",
    "plt.plot(y_taylor,x, label ='taylor')\n",
    "# Function add a legend   \n",
    "plt.legend() \n",
    "# function to show the plot \n",
    "plt.show()"
   ]
  },
  {
   "cell_type": "code",
   "execution_count": null,
   "metadata": {},
   "outputs": [],
   "source": []
  }
 ],
 "metadata": {
  "kernelspec": {
   "display_name": "Python 3",
   "language": "python",
   "name": "python3"
  },
  "language_info": {
   "codemirror_mode": {
    "name": "ipython",
    "version": 3
   },
   "file_extension": ".py",
   "mimetype": "text/x-python",
   "name": "python",
   "nbconvert_exporter": "python",
   "pygments_lexer": "ipython3",
   "version": "3.7.6"
  }
 },
 "nbformat": 4,
 "nbformat_minor": 4
}
